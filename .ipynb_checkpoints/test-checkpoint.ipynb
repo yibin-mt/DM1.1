{
 "cells": [
  {
   "cell_type": "code",
   "execution_count": 3,
   "id": "1aab1e0f-59a1-4b83-a394-2fc276565518",
   "metadata": {},
   "outputs": [
    {
     "name": "stdout",
     "output_type": "stream",
     "text": [
      "回复 sa\n"
     ]
    }
   ],
   "source": [
    "from DM.DmClass import *\n",
    "\n",
    "dm  = DmClass()\n",
    "\n",
    "dm.load_data('sa', [], 1, 2)\n",
    "\n",
    "dm.response()"
   ]
  },
  {
   "cell_type": "code",
   "execution_count": 4,
   "id": "47d22469-70b8-4701-a263-27651383e9af",
   "metadata": {
    "tags": []
   },
   "outputs": [
    {
     "name": "stdout",
     "output_type": "stream",
     "text": [
      "text: 你知道碧昂斯吗\n",
      "Dm client received: 知道啊,她是我最喜欢的女演员 \n",
      "\n",
      "text: 他的第一张专辑叫什么\n",
      "Dm client received: 危险爱情\n",
      "['你知道碧昂斯吗', '知道啊,她是我最喜欢的女演员', '碧昂斯的第一张专辑叫什么', '危险爱情']\n"
     ]
    }
   ],
   "source": [
    "import grpc\n",
    "from protos.nlp.dm import dm_pb2\n",
    "from protos.nlp.dm import dm_pb2_grpc\n",
    "\n",
    "def run():\n",
    "    # 连接 rpc 服务器\n",
    "    channel = grpc.insecure_channel('localhost:50051')\n",
    "    # 调用 rpc 服务\n",
    "    stub = dm_pb2_grpc.DmStub(channel)\n",
    "    \n",
    "    #第一轮\n",
    "    text = '你知道碧昂斯吗'\n",
    "    print('text:',text)\n",
    "    response = stub.GetDm(dm_pb2.DmRequest(text=text, history={}, session_id='1', robot_id = -1))\n",
    "    print(\"Dm client received: \" + response.answer,'\\n')\n",
    "    history = response.history\n",
    "    \n",
    "    #第二轮\n",
    "    text = '他的第一张专辑叫什么'\n",
    "    print('text:',text)\n",
    "    response = stub.GetDm(dm_pb2.DmRequest(text=text, history=history, session_id='1', robot_id = -1))\n",
    "    print(\"Dm client received: \" + response.answer)\n",
    "    print(response.history.conversation)\n",
    "    history = response.history\n",
    "if __name__ == '__main__':\n",
    "    run()"
   ]
  },
  {
   "cell_type": "code",
   "execution_count": 1,
   "id": "587f1738-2495-43c5-b784-37fc4e5be5ea",
   "metadata": {
    "tags": []
   },
   "outputs": [
    {
     "name": "stderr",
     "output_type": "stream",
     "text": [
      "Warning : `load_model` does not return WordVectorModel or SupervisedModel any more, but a `FastText` object which is very similar.\n",
      "2023-03-07 19:24:20,577 log.log INFO query input:你知道碧昂斯吗\n",
      "2023-03-07 19:24:20,577 log.log INFO query rewrite output:你知道碧昂斯吗\n",
      "Building prefix dict from the default dictionary ...\n",
      "Loading model from cache /var/folders/0p/cjvwlkfs59d5t070gww_cp300000gn/T/jieba.cache\n",
      "Loading model cost 0.299 seconds.\n",
      "Prefix dict has been built successfully.\n",
      "2023-03-07 19:24:22,891 log.log INFO predict class:Chat\n",
      "2023-03-07 19:24:22,892 log.log INFO score:0.6195561559546287\n",
      "2023-03-07 19:24:22,893 log.log INFO dm response :知道啊,她是我最喜欢的女演员 \n",
      "\n"
     ]
    },
    {
     "data": {
      "text/plain": [
       "'知道啊,她是我最喜欢的女演员'"
      ]
     },
     "execution_count": 1,
     "metadata": {},
     "output_type": "execute_result"
    }
   ],
   "source": [
    "import sys\n",
    "sys.path.append('./DM/')\n",
    "sys.path.append('./DM/models/')\n",
    "from DmClass import *\n",
    "text = '你知道碧昂斯吗'\n",
    "history = {'conversation':['','','你好', '你好呀，我可以帮你做点啥嘛']}\n",
    "\n",
    "dm  = DmClass()\n",
    "dm.load_data(text, history, '1', -1)\n",
    "\n",
    "ans, history, emotion = dm.response()\n",
    "ans"
   ]
  },
  {
   "cell_type": "code",
   "execution_count": null,
   "id": "4829dd40-0d6d-4b2a-adea-552c439693af",
   "metadata": {},
   "outputs": [],
   "source": []
  }
 ],
 "metadata": {
  "kernelspec": {
   "display_name": "Python 3 (ipykernel)",
   "language": "python",
   "name": "python3"
  },
  "language_info": {
   "codemirror_mode": {
    "name": "ipython",
    "version": 3
   },
   "file_extension": ".py",
   "mimetype": "text/x-python",
   "name": "python",
   "nbconvert_exporter": "python",
   "pygments_lexer": "ipython3",
   "version": "3.9.16"
  }
 },
 "nbformat": 4,
 "nbformat_minor": 5
}
